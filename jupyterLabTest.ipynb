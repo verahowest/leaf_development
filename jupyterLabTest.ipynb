{
 "cells": [
  {
   "cell_type": "code",
   "execution_count": 1,
   "id": "adaptive-decrease",
   "metadata": {},
   "outputs": [],
   "source": [
    "import numpy as np\n",
    "import matplotlib.pyplot as plt"
   ]
  },
  {
   "cell_type": "code",
   "execution_count": 2,
   "id": "tested-crawford",
   "metadata": {},
   "outputs": [
    {
     "data": {
      "image/png": "[encoded data removed]",
      "text/plain": [
       "<Figure size 432x288 with 1 Axes>"
      ]
     },
     "metadata": {
      "needs_background": "light"
     },
     "output_type": "display_data"
    }
   ],
   "source": [
    "# for later to draw leaf margin in more complex shapes, without sorting all points\n",
    "from scipy.spatial import ConvexHull\n",
    "\n",
    "# RANDOM DATA\n",
    "x = np.random.normal(0,1,100)\n",
    "y = np.random.normal(0,1,100)\n",
    "xy = np.hstack((x[:,np.newaxis],y[:,np.newaxis]))\n",
    "\n",
    "# PERFORM CONVEX HULL\n",
    "hull = ConvexHull(xy)\n",
    "\n",
    "# PLOT THE RESULTS\n",
    "plt.scatter(x,y)\n",
    "plt.plot(x[hull.vertices], y[hull.vertices])\n",
    "plt.show()"
   ]
  },
  {
   "cell_type": "markdown",
   "id": "nutritional-courage",
   "metadata": {},
   "source": [
    "# General Approach\n",
    "1. convergence points emerge when sufficient space becomes available between cp on cell margin (Hofmeister's rule).\n",
    "    - create threshold paramter for when cp appear (th_cp)\n",
    "    - for this measure red distance on leaf margin\n",
    "    - new convergence points modify the biological composition and influence shap (hormones present and where to place the red line's new start point etc)\n",
    "2. introduce new strand where cp is added\n",
    "    - \"portion of the margin falling within the threshold distance d_axes of the cp point are associated with the new veins\"\n",
    "    - this means that the next interval is split in two to decide when there will be a new cp where. (light green areas in figure 6.2 of Runions 2014 thesis)\n",
    "3. veins grow in the direction they are pointing and take with them the nearest margin points\n",
    "    - stretching and bending of margin are minimized, to avoid deformation of margin that occurs from vein growth\n",
    "    - this damping of stretching is decided locally based on compounds in cells locally"
   ]
  },
  {
   "cell_type": "markdown",
   "id": "finished-courtesy",
   "metadata": {},
   "source": [
    "\n",
    "\n",
    "<img src=\"img/LeafModelDefinition.png\" alt=\"Leaf Visualization (Runions, 2014)\" width=\"40%\" height=\"40%\">"
   ]
  },
  {
   "cell_type": "markdown",
   "id": "fifteen-nancy",
   "metadata": {},
   "source": [
    "# proof of concept approach:\n",
    "\n",
    "Problem, the actual math results in approximately 3000 lines of code in C++, so that would def be overkill? Maybe try using parametric sliders in growth? Might even be more intuitive for technical artists. I'd say it's worth a try even though it's not very mathematically significant, but might be good enough for 3D production\n",
    "\n",
    "## step 1 \n",
    "- create basic leaf shape (can even be a circle), with primordium\n",
    "- create test margin with 1cp\n",
    "- create points on primordium"
   ]
  },
  {
   "cell_type": "code",
   "execution_count": 77,
   "id": "electoral-basement",
   "metadata": {},
   "outputs": [],
   "source": [
    "class Point:\n",
    "    def __init__(self, pos, is_cp, vein_assoc, has_morphogen):\n",
    "        self.pos = pos\n",
    "        self.is_cp = is_cp\n",
    "        self.vein_assoc = vein_assoc\n",
    "        self.has_morphogen = has_morphogen\n",
    "\n",
    "def print_points(points):    \n",
    "    for i in range(0,len(points)):\n",
    "        print(str(i) +\"   \" + ', '.join(\"%s: %s\" % item for item in vars(points[i]).items())) #print class data\n",
    "\n",
    "def get_points_pos(list_of_points):\n",
    "    x_pos = []\n",
    "    y_pos = []\n",
    "    pos = []\n",
    "    for point in list_of_points:\n",
    "            pos.append(point.pos)\n",
    "            x_pos.append(point.pos[0])\n",
    "            y_pos.append(point.pos[1])\n",
    "    return x_pos, y_pos, pos\n",
    "\n",
    "def plot_leaf(all_veins, margin, all_cp):\n",
    "    \"\"\"Plots an image of the leaf's veins, convergence points and margin.\"\"\"\n",
    "    \n",
    "    x_vein = []\n",
    "    y_vein = []\n",
    "    for vein in all_veins:\n",
    "        temp_vein_pos = get_points_pos(vein)\n",
    "        x_vein.append(temp_vein_pos[0])\n",
    "        y_vein.append(temp_vein_pos[1])\n",
    "    \n",
    "    x_margin,y_margin, margin_pos = get_points_pos(margin)\n",
    "    \n",
    "    x_cp, y_cp, pos_cp = get_points_pos(all_cp)\n",
    "    \n",
    "    plt.plot(x_vein, y_vein, '-bo')\n",
    "    plt.plot(x_margin, y_margin, '-ko')\n",
    "    plt.plot(x_cp, y_cp, 'yo')\n",
    "    plt.axis([-7, 7, 0, 7])\n",
    "    plt.show()\n",
    "    return temp_vein_pos[2], margin_pos "
   ]
  },
  {
   "cell_type": "code",
   "execution_count": 85,
   "id": "exact-myanmar",
   "metadata": {},
   "outputs": [
    {
     "data": {
      "image/png": "[encoded data removed]",
      "text/plain": [
       "<Figure size 432x288 with 1 Axes>"
      ]
     },
     "metadata": {
      "needs_background": "light"
     },
     "output_type": "display_data"
    },
    {
     "name": "stdout",
     "output_type": "stream",
     "text": [
      "0   pos: [0, 0], is_cp: 0, vein_assoc: 0, has_morphogen: 0\n",
      "1   pos: [-1.5, 1], is_cp: 0, vein_assoc: <__main__.Point object at 0x00000241388146D0>, has_morphogen: 0\n",
      "2   pos: [-2, 2], is_cp: 0, vein_assoc: <__main__.Point object at 0x00000241388146D0>, has_morphogen: 0\n",
      "3   pos: [-1.5, 3], is_cp: 0, vein_assoc: <__main__.Point object at 0x00000241388146D0>, has_morphogen: 0\n",
      "4   pos: [-1, 4], is_cp: 0, vein_assoc: <__main__.Point object at 0x00000241388146D0>, has_morphogen: 0\n",
      "5   pos: [0, 5], is_cp: 1, vein_assoc: <__main__.Point object at 0x00000241388146D0>, has_morphogen: 0\n",
      "6   pos: [1, 4], is_cp: 0, vein_assoc: <__main__.Point object at 0x00000241388146D0>, has_morphogen: 0\n",
      "7   pos: [1.5, 3], is_cp: 0, vein_assoc: <__main__.Point object at 0x00000241388146D0>, has_morphogen: 0\n",
      "8   pos: [2, 2], is_cp: 0, vein_assoc: <__main__.Point object at 0x00000241388146D0>, has_morphogen: 0\n",
      "9   pos: [1.5, 1], is_cp: 0, vein_assoc: <__main__.Point object at 0x00000241388146D0>, has_morphogen: 0\n",
      "10   pos: [0, 0], is_cp: 0, vein_assoc: 0, has_morphogen: 0\n",
      "11   pos: [0, 5], is_cp: 1, vein_assoc: <__main__.Point object at 0x00000241388146D0>, has_morphogen: 0\n",
      "0   pos: [0, 5], is_cp: 1, vein_assoc: <__main__.Point object at 0x00000241388146D0>, has_morphogen: 0\n"
     ]
    }
   ],
   "source": [
    "# initialize convergence points    \n",
    "all_cp = []\n",
    "\n",
    "# create primordium vein\n",
    "base_point = Point([0,0], 0, 0, 0)\n",
    "primordium_vein = [base_point]\n",
    "has_morphogen = 0\n",
    "\n",
    "for i in range(6):\n",
    "    if i == 0: #skip base_point\n",
    "        continue\n",
    "    elif i == 5:\n",
    "        is_cp = 1\n",
    "        new_point = Point([0, i], is_cp, base_point, has_morphogen)\n",
    "        all_cp.append(new_point)\n",
    "    else:\n",
    "        is_cp = 0\n",
    "        new_point = Point([0, i], is_cp, base_point, has_morphogen)   \n",
    "    primordium_vein.append(new_point)\n",
    "    \n",
    "# create margin\n",
    "margin = []\n",
    "width_points = [0,1.5, 2, 1.5,1,0]\n",
    "for i in [-1,1]:\n",
    "    for j in range(6):\n",
    "        if j == 0:\n",
    "            new_point = base_point\n",
    "        elif j == 5:\n",
    "            new_point = primordium_vein[-1]\n",
    "        else:\n",
    "            x = i * width_points[j] \n",
    "            is_cp = 0\n",
    "            has_morphogen = 0\n",
    "            new_point = Point([x, j], is_cp, base_point, has_morphogen)\n",
    "        \n",
    "        margin.append(new_point)\n",
    "margin[6:11] = reversed(margin[6:11])  # Reverse, So margin is one continuous line\n",
    "\n",
    "plot_leaf([primordium_vein], margin, all_cp)\n",
    "# plt.show()\n",
    "\n",
    "print_points(margin)\n",
    "\n",
    "print_points(all_cp)"
   ]
  },
  {
   "cell_type": "markdown",
   "id": "appropriate-elder",
   "metadata": {},
   "source": [
    "## step 2\n",
    "\n",
    "- vein insertion (neirest neighbours sklearn? euclidean distance ?)\n",
    "\n",
    "- create simple polar growth along vein axis\n",
    "    - think about stretching, now or later?"
   ]
  },
  {
   "cell_type": "code",
   "execution_count": 86,
   "id": "distinct-stretch",
   "metadata": {},
   "outputs": [
    {
     "name": "stdout",
     "output_type": "stream",
     "text": [
      "0   pos: [0, 5], is_cp: 1, vein_assoc: <__main__.Point object at 0x00000241388146D0>, has_morphogen: 0\n"
     ]
    },
    {
     "data": {
      "image/png": "[encoded data removed]",
      "text/plain": [
       "<Figure size 432x288 with 1 Axes>"
      ]
     },
     "metadata": {
      "needs_background": "light"
     },
     "output_type": "display_data"
    },
    {
     "name": "stdout",
     "output_type": "stream",
     "text": [
      "0   pos: [0, 5], is_cp: 1, vein_assoc: <__main__.Point object at 0x00000241388146D0>, has_morphogen: 0\n",
      "1   pos: [-1, 4], is_cp: 1, vein_assoc: <__main__.Point object at 0x00000241388146D0>, has_morphogen: 0\n",
      "2   pos: [1.5, 3], is_cp: 1, vein_assoc: <__main__.Point object at 0x00000241388146D0>, has_morphogen: 0\n"
     ]
    },
    {
     "data": {
      "text/plain": [
       "3"
      ]
     },
     "execution_count": 86,
     "metadata": {},
     "output_type": "execute_result"
    }
   ],
   "source": [
    "# create new cp for vein insertion\n",
    "# this is temporarily hard coded for poc, later done dynamically based on threshold during growth\n",
    "\n",
    "print_points(all_cp)\n",
    "\n",
    "margin[4].is_cp = 1\n",
    "margin[7].is_cp = 1\n",
    "\n",
    "all_cp.append(margin[4])\n",
    "all_cp.append(margin[7])\n",
    "\n",
    "primordium_vein_pos, margin_pos = plot_leaf([primordium_vein], margin, all_cp)\n",
    "\n",
    "print_points(all_cp)\n",
    "\n",
    "len(all_cp)"
   ]
  },
  {
   "cell_type": "code",
   "execution_count": 102,
   "id": "palestinian-globe",
   "metadata": {},
   "outputs": [
    {
     "name": "stdout",
     "output_type": "stream",
     "text": [
      "[5 4 3]\n",
      "[[5.         4.         3.         2.         1.         0.        ]\n",
      " [4.12310563 3.16227766 2.23606798 1.41421356 1.         1.41421356]\n",
      " [3.35410197 2.5        1.80277564 1.5        1.80277564 2.5       ]]\n"
     ]
    }
   ],
   "source": [
    "from sklearn.metrics.pairwise import euclidean_distances\n",
    "\n",
    "def find_shortest_path(all_cp, vein):\n",
    "    _,_, all_cp_pos = get_points_pos(all_cp)\n",
    "    _, _, vein_pos = get_points_pos(vein)\n",
    "#     margin_array = np.array(all_cp_pos)\n",
    "#     primordium_array = np.array(primordium_vein_pos)\n",
    "    euc_res = euclidean_distances(all_cp_pos, vein_pos)\n",
    "    min_index = np.argmin(euc_res, axis=1)\n",
    "    return min_index, euc_res\n",
    "\n",
    "print(find_shortest_path(all_cp, primordium_vein)[0])\n",
    "print(find_shortest_path(all_cp, primordium_vein)[1])\n",
    "\n",
    "def connect_newcp( all_cp, veins):\n",
    "    \n",
    "    min_index, euc_res = find_shortest_path(all_cp, vein)"
   ]
  },
  {
   "cell_type": "code",
   "execution_count": 66,
   "id": "subtle-fence",
   "metadata": {},
   "outputs": [
    {
     "ename": "SyntaxError",
     "evalue": "invalid syntax (<ipython-input-66-9a5c8dd555fb>, line 3)",
     "output_type": "error",
     "traceback": [
      "\u001b[1;36m  File \u001b[1;32m\"<ipython-input-66-9a5c8dd555fb>\"\u001b[1;36m, line \u001b[1;32m3\u001b[0m\n\u001b[1;33m    >>> import numpy as np\u001b[0m\n\u001b[1;37m    ^\u001b[0m\n\u001b[1;31mSyntaxError\u001b[0m\u001b[1;31m:\u001b[0m invalid syntax\n"
     ]
    }
   ],
   "source": [
    "# find nearest neighbour point on vein (choosing between veins won't be necessary due to cell splitting regions?) - DOUBLE CHECK ASSUMPTION\n",
    "from sklearn.neighbors import KDTree\n",
    ">>> import numpy as np\n",
    ">>> X = np.array([[-1, -1], [-2, -1], [-3, -2], [1, 1], [2, 1], [3, 2]])\n",
    ">>> kdt = KDTree(X, leaf_size=30, metric='euclidean')\n",
    ">>> kdt.query(X, k=2, return_distance=False)\n",
    "array([[0, 1],\n",
    "       [1, 0],\n",
    "       [2, 1],\n",
    "       [3, 4],\n",
    "       [4, 3],\n",
    "       [5, 4]]...)"
   ]
  },
  {
   "cell_type": "markdown",
   "id": "automated-click",
   "metadata": {},
   "source": [
    "## step 3\n",
    "\n",
    "- more complex growth methods both or choose 1?:\n",
    "    - find path to closest vein -> the longer the travel the longer the auxin travels\n",
    "    - expand according to morphogens -> expands more or indent at morphogen points "
   ]
  },
  {
   "cell_type": "code",
   "execution_count": null,
   "id": "emerging-worcester",
   "metadata": {},
   "outputs": [],
   "source": []
  }
 ],
 "metadata": {
  "kernelspec": {
   "display_name": "Python 3",
   "language": "python",
   "name": "python3"
  },
  "language_info": {
   "codemirror_mode": {
    "name": "ipython",
    "version": 3
   },
   "file_extension": ".py",
   "mimetype": "text/x-python",
   "name": "python",
   "nbconvert_exporter": "python",
   "pygments_lexer": "ipython3",
   "version": "3.9.1"
  }
 },
 "nbformat": 4,
 "nbformat_minor": 5
}
