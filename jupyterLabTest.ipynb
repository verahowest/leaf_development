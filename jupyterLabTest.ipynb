{
 "cells": [
  {
   "cell_type": "code",
   "execution_count": 1,
   "id": "affiliated-bosnia",
   "metadata": {},
   "outputs": [],
   "source": [
    "import numpy as np\n",
    "import matplotlib.pyplot as plt"
   ]
  },
  {
   "cell_type": "code",
   "execution_count": 2,
   "id": "welcome-figure",
   "metadata": {},
   "outputs": [
    {
     "data": {
      "image/png": "[encoded data removed]",
      "text/plain": [
       "<Figure size 432x288 with 1 Axes>"
      ]
     },
     "metadata": {
      "needs_background": "light"
     },
     "output_type": "display_data"
    }
   ],
   "source": [
    "# for later to draw leaf margin in more complex shapes, without sorting all points\n",
    "from scipy.spatial import ConvexHull\n",
    "\n",
    "# RANDOM DATA\n",
    "x = np.random.normal(0,1,100)\n",
    "y = np.random.normal(0,1,100)\n",
    "xy = np.hstack((x[:,np.newaxis],y[:,np.newaxis]))\n",
    "\n",
    "# PERFORM CONVEX HULL\n",
    "hull = ConvexHull(xy)\n",
    "\n",
    "# PLOT THE RESULTS\n",
    "plt.scatter(x,y)\n",
    "plt.plot(x[hull.vertices], y[hull.vertices])\n",
    "plt.show()"
   ]
  },
  {
   "cell_type": "markdown",
   "id": "absolute-emphasis",
   "metadata": {},
   "source": [
    "# General Approach\n",
    "1. convergence points emerge when sufficient space becomes available between cp on cell margin (Hofmeister's rule).\n",
    "    - create threshold paramter for when cp appear (th_cp)\n",
    "    - for this measure red distance on leaf margin\n",
    "    - new convergence points modify the biological composition and influence shap (hormones present and where to place the red line's new start point etc)\n",
    "2. introduce new strand where cp is added\n",
    "    - \"portion of the margin falling within the threshold distance d_axes of the cp point are associated with the new veins\"\n",
    "    - this means that the next interval is split in two to decide when there will be a new cp where. (light green areas in figure 6.2 of Runions 2014 thesis)\n",
    "3. veins grow in the direction they are pointing and take with them the nearest margin points\n",
    "    - stretching and bending of margin are minimized, to avoid deformation of margin that occurs from vein growth\n",
    "    - this damping of stretching is decided locally based on compounds in cells locally"
   ]
  },
  {
   "cell_type": "markdown",
   "id": "blessed-index",
   "metadata": {},
   "source": [
    "<img src=\"img/LeafModelDefinition.png\" alt=\"Leaf Visualization (Runions, 2014)\" width=\"40%\" height=\"40%\">"
   ]
  },
  {
   "cell_type": "code",
   "execution_count": 3,
   "id": "controversial-ethernet",
   "metadata": {},
   "outputs": [],
   "source": [
    "# helper functions\n",
    "\n",
    "class Point:\n",
    "    def __init__(self, pos, is_cp, vein_assoc, has_morphogen):\n",
    "        self.pos = pos\n",
    "        self.is_cp = is_cp\n",
    "        self.vein_assoc = vein_assoc\n",
    "        self.has_morphogen = has_morphogen\n",
    "\n",
    "def print_points(points):    \n",
    "    for i in range(0,len(points)):\n",
    "        print(str(i) +\"   \" + ', '.join(\"%s: %s\" % item for item in vars(points[i]).items())) #print class data\n",
    "\n",
    "def get_points_pos(list_of_points):\n",
    "    x_pos = []\n",
    "    y_pos = []\n",
    "    pos = []\n",
    "    for point in list_of_points:\n",
    "            pos.append(point.pos)\n",
    "            x_pos.append(point.pos[0])\n",
    "            y_pos.append(point.pos[1])\n",
    "    return x_pos, y_pos, pos\n",
    "\n",
    "def plot_leaf(all_veins, margin, all_cp):\n",
    "    \"\"\"Plots an image of the leaf's veins, convergence points and margin.\"\"\"\n",
    "    \n",
    "    x_vein = []\n",
    "    y_vein = []\n",
    "    for vein in all_veins:\n",
    "        temp_vein_pos = get_points_pos(vein)\n",
    "        x_vein.append(temp_vein_pos[0])\n",
    "        y_vein.append(temp_vein_pos[1])\n",
    "    \n",
    "    x_margin,y_margin, margin_pos = get_points_pos(margin)  \n",
    "    x_cp, y_cp, pos_cp = get_points_pos(all_cp)\n",
    "    \n",
    "    for cp in all_cp:\n",
    "        if cp.vein_assoc == base_point:\n",
    "            continue\n",
    "        else:\n",
    "            cp_x, cp_y = cp.pos\n",
    "            attach_x, attach_y = cp.vein_assoc.pos\n",
    "            plt.plot([cp_x, attach_x], [cp_y, attach_y], 'bo-')\n",
    "            \n",
    "    plt.plot(x_vein, y_vein, 'bo')\n",
    "    plt.plot(x_margin, y_margin, '-ko')\n",
    "    plt.plot(x_cp, y_cp, 'yo')\n",
    "    plt.axis([-7, 7, 0, 7])\n",
    "    plt.show()\n",
    "    return temp_vein_pos[2], margin_pos "
   ]
  },
  {
   "cell_type": "markdown",
   "id": "religious-macro",
   "metadata": {},
   "source": [
    "# proof of concept approach:\n",
    "\n",
    "Problem, the actual math results in approximately 3000 lines of code in C++, so that would def be overkill? Maybe try using parametric sliders in growth? Might even be more intuitive for technical artists. I'd say it's worth a try even though it's not very mathematically significant, but might be good enough for 3D production\n",
    "\n",
    "## step 1 \n",
    "- create basic leaf shape (can even be a circle), with primordium\n",
    "- create test margin with 1cp\n",
    "- create points on primordium"
   ]
  },
  {
   "cell_type": "code",
   "execution_count": 4,
   "id": "major-console",
   "metadata": {},
   "outputs": [
    {
     "data": {
      "image/png": "[encoded data removed]",
      "text/plain": [
       "<Figure size 432x288 with 1 Axes>"
      ]
     },
     "metadata": {
      "needs_background": "light"
     },
     "output_type": "display_data"
    },
    {
     "name": "stdout",
     "output_type": "stream",
     "text": [
      "0   pos: [0, 5], is_cp: 1, vein_assoc: <__main__.Point object at 0x000001C89B61D7C0>, has_morphogen: 0\n"
     ]
    }
   ],
   "source": [
    "# initialize convergence points    \n",
    "all_cp = []\n",
    "\n",
    "# create primordium vein\n",
    "base_point = Point([0,0], 0, 0, 0)\n",
    "primordium_vein = [base_point]\n",
    "has_morphogen = 0\n",
    "\n",
    "for i in range(6):\n",
    "    if i == 0: #skip base_point\n",
    "        continue\n",
    "    elif i == 5:\n",
    "        is_cp = 1\n",
    "        new_point = Point([0, i], is_cp, base_point, has_morphogen)\n",
    "        all_cp.append(new_point)\n",
    "    else:\n",
    "        is_cp = 0\n",
    "        new_point = Point([0, i], is_cp, base_point, has_morphogen)   \n",
    "    primordium_vein.append(new_point)\n",
    "    \n",
    "# create margin\n",
    "margin = []\n",
    "width_points = [0,1.5, 2, 1.5,1,0]\n",
    "for i in [-1,1]:\n",
    "    for j in range(6):\n",
    "        if j == 0:\n",
    "            new_point = base_point\n",
    "        elif j == 5:\n",
    "            new_point = primordium_vein[-1]\n",
    "        else:\n",
    "            x = i * width_points[j] \n",
    "            is_cp = 0\n",
    "            has_morphogen = 0\n",
    "            new_point = Point([x, j], is_cp, base_point, has_morphogen)\n",
    "        \n",
    "        margin.append(new_point)\n",
    "margin[6:11] = reversed(margin[6:11])  # Reverse, So margin is one continuous line\n",
    "\n",
    "# --------------------------------------------------------\n",
    "\n",
    "plot_leaf([primordium_vein], margin, all_cp)\n",
    "\n",
    "# print_points(margin)\n",
    "print_points(all_cp)"
   ]
  },
  {
   "cell_type": "markdown",
   "id": "banner-nursing",
   "metadata": {},
   "source": [
    "## step 2\n",
    "\n",
    "- vein insertion (neirest neighbours sklearn? euclidean distance ?)"
   ]
  },
  {
   "cell_type": "code",
   "execution_count": 5,
   "id": "subject-deficit",
   "metadata": {},
   "outputs": [
    {
     "name": "stdout",
     "output_type": "stream",
     "text": [
      "0   pos: [0, 5], is_cp: 1, vein_assoc: <__main__.Point object at 0x000001C89B61D7C0>, has_morphogen: 0\n"
     ]
    },
    {
     "data": {
      "image/png": "[encoded data removed]",
      "text/plain": [
       "<Figure size 432x288 with 1 Axes>"
      ]
     },
     "metadata": {
      "needs_background": "light"
     },
     "output_type": "display_data"
    },
    {
     "name": "stdout",
     "output_type": "stream",
     "text": [
      "0   pos: [0, 5], is_cp: 1, vein_assoc: <__main__.Point object at 0x000001C89B61D7C0>, has_morphogen: 0\n",
      "1   pos: [-1, 4], is_cp: 1, vein_assoc: <__main__.Point object at 0x000001C89B61D7C0>, has_morphogen: 0\n",
      "2   pos: [1.5, 3], is_cp: 1, vein_assoc: <__main__.Point object at 0x000001C89B61D7C0>, has_morphogen: 0\n"
     ]
    },
    {
     "data": {
      "text/plain": [
       "3"
      ]
     },
     "execution_count": 5,
     "metadata": {},
     "output_type": "execute_result"
    }
   ],
   "source": [
    "# create new cp for vein insertion\n",
    "# this is temporarily hard coded for poc, later done dynamically based on threshold during growth\n",
    "\n",
    "print_points(all_cp)\n",
    "\n",
    "margin[4].is_cp = 1\n",
    "margin[7].is_cp = 1\n",
    "\n",
    "all_cp.append(margin[4])\n",
    "all_cp.append(margin[7])\n",
    "\n",
    "primordium_vein_pos, margin_pos = plot_leaf([primordium_vein], margin, all_cp)\n",
    "\n",
    "print_points(all_cp)\n",
    "\n",
    "len(all_cp)"
   ]
  },
  {
   "cell_type": "markdown",
   "id": "trained-parish",
   "metadata": {},
   "source": [
    "\n",
    "### decide between two options:\n",
    "\n",
    "1.  calculate distance from cp to the clossest point on a vein. The closest point will be chosen as an attachment point for new vein.\n",
    "    - downside: this limits you to a finite set of points, when do you create new ones, maybe less accurate\n",
    "    - upside: arguably quicker and more simplified?\n",
    " \n",
    "2. draw a line for each surrounding vein(start point to finish point),calculate shortest distances between cp and these lines, lowest distance is where attachment happens\n",
    "    - more accurate\n",
    "    - complexer implication\n",
    "    - numerically harder computations (more veins to calculate), have to store line start and end points etc\n",
    "    \n",
    "For vein insertion I currently implemented number 1. First decide how to store veins (just as points and some endpoints marked or as seperate lists, creating a tree hierarchy?(maybe the tree would be neatest even though more computationally expensive)"
   ]
  },
  {
   "cell_type": "code",
   "execution_count": 6,
   "id": "growing-stream",
   "metadata": {},
   "outputs": [
    {
     "data": {
      "image/png": "[encoded data removed]",
      "text/plain": [
       "<Figure size 432x288 with 1 Axes>"
      ]
     },
     "metadata": {
      "needs_background": "light"
     },
     "output_type": "display_data"
    }
   ],
   "source": [
    "from sklearn.metrics.pairwise import euclidean_distances\n",
    "\n",
    "def find_shortest_path(all_cp, vein):\n",
    "    \n",
    "    _,_, all_cp_pos = get_points_pos(all_cp)\n",
    "    _, _, vein_pos = get_points_pos(vein)\n",
    "    euc_res = euclidean_distances(all_cp_pos, vein_pos)\n",
    "    min_index = np.argmin(euc_res, axis=1)\n",
    "    return min_index, euc_res\n",
    "\n",
    "def connect_newcp( all_cp, vein):\n",
    "    \n",
    "    min_index, euc_res = find_shortest_path(all_cp, vein)\n",
    "    for i in range(0, len(all_cp)):\n",
    "        distance = euc_res[i,min_index[i]]\n",
    "        if distance == 0:  #skip if already connected to a vein\n",
    "            continue\n",
    "        else:\n",
    "            all_cp[i].vein_assoc = vein[min_index[i]]\n",
    "\n",
    "connect_newcp(all_cp, primordium_vein)          \n",
    "primordium_vein_pos, margin_pos = plot_leaf([primordium_vein], margin, all_cp)\n"
   ]
  },
  {
   "cell_type": "markdown",
   "id": "micro-avatar",
   "metadata": {},
   "source": [
    "## step 3\n",
    "\n",
    "create simple polar growth along vein axis\n",
    "- try to implement nearest points growing faster with normalized growth distance?\n",
    "    - this should be subtle because vein insertion should happen before the shape morphs too much\n",
    "- think about stretching, now or later?\n",
    "\n",
    "\n",
    "    \n",
    "approach:\n",
    "- get two points == vector\n",
    "- multiply by scalar growth rate gr\n",
    "- set new points to new end point\n",
    "- start point should stay the same\n",
    "\n",
    "then:\n",
    "- simultaneously grow all points but calculate growth rate per vein by distance to other veins (in example top should grow quicker than the right vein, because they are together)\n",
    "- also calculate for margin points that aren't a cp"
   ]
  },
  {
   "cell_type": "markdown",
   "id": "civil-consultation",
   "metadata": {},
   "source": [
    "<img src=\"img/VeinElongation.png\" alt=\"Vein Elongation (Runions, 2014)\" width=\"40%\" height=\"40%\">"
   ]
  },
  {
   "cell_type": "code",
   "execution_count": 26,
   "id": "rubber-throw",
   "metadata": {},
   "outputs": [
    {
     "name": "stdout",
     "output_type": "stream",
     "text": [
      "0   pos: [ 0. 59.], is_cp: 1, vein_assoc: <__main__.Point object at 0x000001C89B61D7C0>, has_morphogen: 0\n",
      "1   pos: [-55.   4.], is_cp: 1, vein_assoc: <__main__.Point object at 0x000001C89B61D190>, has_morphogen: 0\n",
      "2   pos: [55.5  3. ], is_cp: 1, vein_assoc: <__main__.Point object at 0x000001C89B61D100>, has_morphogen: 0\n",
      "0   pos: [ 0. 62.], is_cp: 1, vein_assoc: <__main__.Point object at 0x000001C89B61D7C0>, has_morphogen: 0\n",
      "1   pos: [-58.   4.], is_cp: 1, vein_assoc: <__main__.Point object at 0x000001C89B61D190>, has_morphogen: 0\n",
      "2   pos: [58.5  3. ], is_cp: 1, vein_assoc: <__main__.Point object at 0x000001C89B61D100>, has_morphogen: 0\n"
     ]
    },
    {
     "data": {
      "image/png": "[encoded data removed]",
      "text/plain": [
       "<Figure size 432x288 with 1 Axes>"
      ]
     },
     "metadata": {
      "needs_background": "light"
     },
     "output_type": "display_data"
    }
   ],
   "source": [
    "# from sklearn.preprocessing import normalize\n",
    "print_points(all_cp)\n",
    "# can later be scaled differently dependent on auxin etc\n",
    "gr = np.ones(len(all_cp))\n",
    "# print(gr)\n",
    "\n",
    "def normalize_vein(x):\n",
    "    norm_x = x/np.sqrt((x**2).sum())\n",
    "    return norm_x\n",
    "\n",
    "def expand_veins(all_cp, gr):\n",
    "#     gv = np.zeros((len(all_cp), 2))\n",
    "    veins = []\n",
    "    for i in range(0, len(all_cp)):\n",
    "        cp = all_cp[i]\n",
    "        vein = np.array(cp.pos) - np.array(cp.vein_assoc.pos) \n",
    "        dir = normalize_vein(vein)\n",
    "        cp.pos = cp.pos + (3 * dir)\n",
    "\n",
    "# print((np.array([0, 1][0,0])*1))\n",
    "expand_veins(all_cp, gr)\n",
    "print_points(all_cp)\n",
    "# np.array(vein)\n",
    "# print(np.zeros((2, 3)))\n",
    "\n",
    "primordium_vein_pos, margin_pos = plot_leaf([primordium_vein], margin, all_cp)"
   ]
  },
  {
   "cell_type": "code",
   "execution_count": 8,
   "id": "compact-webster",
   "metadata": {},
   "outputs": [
    {
     "data": {
      "text/plain": [
       "array([[0, 1],\n",
       "       [1, 0],\n",
       "       [2, 1],\n",
       "       [3, 4],\n",
       "       [4, 3],\n",
       "       [5, 4]], dtype=int64)"
      ]
     },
     "execution_count": 8,
     "metadata": {},
     "output_type": "execute_result"
    }
   ],
   "source": [
    "# find nearest neighbour point on vein (choosing between veins won't be necessary due to cell splitting regions?) - DOUBLE CHECK ASSUMPTION\n",
    "\n",
    "# example from sklearn as a reminder IGNORE\n",
    "from sklearn.neighbors import KDTree\n",
    "import numpy as np\n",
    "X = np.array([[-1, -1], [-2, -1], [-3, -2], [1, 1], [2, 1], [3, 2]])\n",
    "kdt = KDTree(X, leaf_size=30, metric='euclidean')\n",
    "kdt.query(X, k=2, return_distance=False)"
   ]
  },
  {
   "cell_type": "markdown",
   "id": "reported-narrative",
   "metadata": {},
   "source": [
    "## step 4: Next week!\n",
    "\n",
    "- more complex growth methods both or choose 1?:\n",
    "    - find path to closest vein -> the longer the travel the longer the auxin travels\n",
    "    - expand according to morphogens -> expands more or indent at morphogen points "
   ]
  },
  {
   "cell_type": "code",
   "execution_count": null,
   "id": "threatened-sucking",
   "metadata": {},
   "outputs": [],
   "source": []
  }
 ],
 "metadata": {
  "kernelspec": {
   "display_name": "Python 3",
   "language": "python",
   "name": "python3"
  },
  "language_info": {
   "codemirror_mode": {
    "name": "ipython",
    "version": 3
   },
   "file_extension": ".py",
   "mimetype": "text/x-python",
   "name": "python",
   "nbconvert_exporter": "python",
   "pygments_lexer": "ipython3",
   "version": "3.9.1"
  }
 },
 "nbformat": 4,
 "nbformat_minor": 5
}
